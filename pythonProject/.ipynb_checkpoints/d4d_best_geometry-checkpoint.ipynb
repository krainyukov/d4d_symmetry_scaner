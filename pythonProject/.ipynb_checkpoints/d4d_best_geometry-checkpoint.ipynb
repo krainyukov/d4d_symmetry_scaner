{
 "cells": [
  {
   "cell_type": "markdown",
   "id": "4b6aa43f",
   "metadata": {},
   "source": [
    "# Обработчик таблиц и диаграм из файла .log MOLCAS\n",
    "\n",
    "1) Импортируем библиотеку pandas для удобства работы\n",
    "2) В той же папке, в которой лежит этот рабочий документ оставляем результат работы MOLCAS"
   ]
  },
  {
   "cell_type": "code",
   "execution_count": 14,
   "id": "8e5e898a",
   "metadata": {},
   "outputs": [],
   "source": [
    "import pandas as pd\n",
    "import matplotlib.pyplot as plt"
   ]
  },
  {
   "cell_type": "markdown",
   "id": "0e984438",
   "metadata": {},
   "source": [
    "## Создаем необходимые папки"
   ]
  },
  {
   "cell_type": "code",
   "execution_count": 1,
   "id": "dd0c5922",
   "metadata": {},
   "outputs": [],
   "source": [
    "!mkdir all_input_files"
   ]
  },
  {
   "cell_type": "code",
   "execution_count": null,
   "id": "0dd2275f",
   "metadata": {},
   "outputs": [],
   "source": []
  }
 ],
 "metadata": {
  "kernelspec": {
   "display_name": "Python 3 (ipykernel)",
   "language": "python",
   "name": "python3"
  },
  "language_info": {
   "codemirror_mode": {
    "name": "ipython",
    "version": 3
   },
   "file_extension": ".py",
   "mimetype": "text/x-python",
   "name": "python",
   "nbconvert_exporter": "python",
   "pygments_lexer": "ipython3",
   "version": "3.11.5"
  }
 },
 "nbformat": 4,
 "nbformat_minor": 5
}
